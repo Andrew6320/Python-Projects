{
 "cells": [
  {
   "cell_type": "markdown",
   "id": "968d7e4c",
   "metadata": {},
   "source": [
    "# COMP6685 Deep Learning Assignment 3 (A3)\n",
    "Individual (25% of total mark)\n",
    "\n",
    "Task:\n",
    "You are required to develop a phyton code with additional comments to answer the question in the next section.\n",
    "\n",
    "Description:\n",
    "Create a code, in the provided template in Moodle, to train a Recurrent Neural Networks (RNN) on the public benchmark dataset named Poker Hand available at: https://archive.ics.uci.edu/ml/datasets/Poker+Hand.\n",
    "\n",
    "Poker Hand dataset is composed of one training set named “poker-hand-training-true.data” and one testing set named “poker-hand-testing.data”. You will need to download both training and testing sets into your local disk by clicking the Data Folder link (see the image below).\n",
    "\n",
    "In Poker Hand dataset, each data sample (row) is an example of a hand consisting of five playing cards drawn from a standard deck of 52. Each card is described using two attributes (suit and rank), for a total of 10 predictive attributes. There is one Class attribute that describes the \"Poker Hand\". You can find more information about this dataset from: https://www.kaggle.com/datasets/rasvob/uci-poker-hand-dataset\n",
    "\n",
    "The dataset should be imported in the code. An example on how to import the dataset to your code can be found from the link below: https://www.kaggle.com/code/rasvob/uci-poker-dataset-classification\n",
    "\n",
    "Note: This is only a template. You can add more code/text cells if necessary."
   ]
  },
  {
   "cell_type": "markdown",
   "id": "a58c673f",
   "metadata": {},
   "source": [
    "# Import the training and testing set in the cell below (10 marks)"
   ]
  },
  {
   "cell_type": "code",
   "execution_count": null,
   "id": "9b578f4b",
   "metadata": {},
   "outputs": [],
   "source": [
    "import pandas as pd\n",
    "import numpy as np\n",
    "import seaborn as sns\n",
    "import tensorflow as tf"
   ]
  },
  {
   "cell_type": "code",
   "execution_count": null,
   "id": "74bb17bc",
   "metadata": {},
   "outputs": [],
   "source": [
    "from sklearn.model_selection import train_test_split\n",
    "from sklearn.preprocessing import StandardScaler\n",
    "from tensorflow.keras.models import Sequential\n",
    "from tensorflow.keras.layers import Dense, Activation, SimpleRNN,Dropout\n",
    "from tensorflow.keras import utils"
   ]
  },
  {
   "cell_type": "code",
   "execution_count": null,
   "id": "e1577616",
   "metadata": {},
   "outputs": [],
   "source": [
    "# import training and test data\n",
    "test = pd.read_csv('../content/poker-hand-testing.data', header=None)"
   ]
  },
  {
   "cell_type": "code",
   "execution_count": null,
   "id": "7c30b966",
   "metadata": {},
   "outputs": [],
   "source": [
    "train = pd.read_csv('../content/poker-hand-training-true.data', header=None)"
   ]
  },
  {
   "cell_type": "code",
   "execution_count": null,
   "id": "ed84cecb",
   "metadata": {},
   "outputs": [],
   "source": [
    "\n",
    "# assign column names to the dataframes\n",
    "train.columns = ['S1', 'C1', 'S2', 'C2', 'S3', 'C3', 'S4', 'C4', 'S5', 'C5', 'Label']"
   ]
  },
  {
   "cell_type": "code",
   "execution_count": null,
   "id": "f2d309f7",
   "metadata": {},
   "outputs": [],
   "source": [
    "test.columns = ['S1', 'C1', 'S2', 'C2', 'S3', 'C3', 'S4', 'C4', 'S5', 'C5', 'Label']"
   ]
  },
  {
   "cell_type": "code",
   "execution_count": null,
   "id": "b145f099",
   "metadata": {},
   "outputs": [],
   "source": [
    "train.head()"
   ]
  },
  {
   "cell_type": "code",
   "execution_count": null,
   "id": "4ee54f68",
   "metadata": {},
   "outputs": [],
   "source": [
    "# check the shape of the training dataframe\n",
    "train.shape"
   ]
  },
  {
   "cell_type": "code",
   "execution_count": null,
   "id": "1cb58ab7",
   "metadata": {},
   "outputs": [],
   "source": [
    "# check the shape of the test dataframe\n",
    "test.shape"
   ]
  },
  {
   "cell_type": "code",
   "execution_count": null,
   "id": "423e9bb8",
   "metadata": {},
   "outputs": [],
   "source": [
    "X_train = train.loc[:,train.columns != 'Label']\n",
    "X_test = train.loc[:,test.columns != 'Label']\n",
    "Y_train = train['Label']\n",
    "Y_test = test['Label']\n",
    "X_train = train.loc[:,train.columns != 'Label']\n",
    "X_test = test.loc[:,test.columns != 'Label']\n",
    "Y_train = train['Label']\n",
    "Y_test = test['Label']"
   ]
  },
  {
   "cell_type": "code",
   "execution_count": null,
   "id": "ed465b9c",
   "metadata": {},
   "outputs": [],
   "source": [
    "scaler = StandardScaler()\n",
    "X_train =scaler.fit_transform(X_train)\n",
    "X_test =scaler.fit_transform(X_test)"
   ]
  },
  {
   "cell_type": "code",
   "execution_count": null,
   "id": "dfdbd353",
   "metadata": {},
   "outputs": [],
   "source": [
    "# preprocess the data by sorting the card values and keeping the label column at the end\n",
    "def preprocess_data(data:pd.DataFrame):\n",
    "    df = data.copy()\n",
    "    dfc = df[['C1', 'C2', 'C3', 'C4', 'C5']]\n",
    "    dfc.values.sort()\n",
    "    df[['C1', 'C2', 'C3', 'C4', 'C5']] = dfc\n",
    "    df = df[['C1', 'C2', 'C3', 'C4', 'C5', 'S1', 'S2', 'S3', 'S4', 'S5', 'Label']]\n",
    "    return df"
   ]
  },
  {
   "cell_type": "code",
   "execution_count": null,
   "id": "78eab24d",
   "metadata": {},
   "outputs": [],
   "source": [
    "# apply preprocessing to the training and test dataframes\n",
    "X_train_pre = preprocess_data(train)\n",
    "X_test_pre = preprocess_data(test)\n",
    "X_train = X_train_pre.loc[:,X_train_pre.columns != 'Label']\n",
    "X_test = X_test_pre.loc[:,X_test_pre.columns != 'Label']"
   ]
  },
  {
   "cell_type": "code",
   "execution_count": null,
   "id": "f0edc02a",
   "metadata": {},
   "outputs": [],
   "source": [
    "X_train = X_train.values.reshape(-1, 10, 1)\n",
    "X_test = X_test.values.reshape(-1, 10, 1)\n",
    "\n",
    "# specify the number of classes\n",
    "num_classes = 10"
   ]
  },
  {
   "cell_type": "markdown",
   "id": "fa0bf739",
   "metadata": {},
   "source": [
    "# Implement the vanilla RNN in the cell below (20 marks)"
   ]
  },
  {
   "cell_type": "code",
   "execution_count": null,
   "id": "3b4d6815",
   "metadata": {},
   "outputs": [],
   "source": [
    "# build the model architecture\n",
    "model = tf.keras.Sequential()\n",
    "model.add(SimpleRNN(128, input_shape=(10, 1), activation='relu'))\n",
    "model.add(Dropout(0.2))\n",
    "model.add(Dense(64, activation='relu'))\n",
    "model.add(Dense(num_classes, activation='softmax'))"
   ]
  },
  {
   "cell_type": "code",
   "execution_count": null,
   "id": "b4c90ead",
   "metadata": {},
   "outputs": [],
   "source": [
    "# compile the model\n",
    "model.compile(optimizer='adam', loss='categorical_crossentropy', metrics=['accuracy'])\n",
    "\n",
    "# display model architecture\n",
    "model.summary()"
   ]
  },
  {
   "cell_type": "markdown",
   "id": "787167e7",
   "metadata": {},
   "source": [
    "# Train the vanilla RNN based on the training set in the cell below (10 marks)"
   ]
  },
  {
   "cell_type": "code",
   "execution_count": null,
   "id": "70d8896e",
   "metadata": {},
   "outputs": [],
   "source": [
    "# fit the model to the training data and validate on the test data\n",
    "model.fit(X_train, utils.to_categorical(Y_train), validation_data=(X_test, utils.to_categorical(Y_test)), epochs=40, batch_size=128)"
   ]
  },
  {
   "cell_type": "markdown",
   "id": "390d408a",
   "metadata": {},
   "source": [
    "# Evaluate the vanilla RNN based on the testing set in the cell below (10 marks)"
   ]
  },
  {
   "cell_type": "code",
   "execution_count": null,
   "id": "103814e3",
   "metadata": {},
   "outputs": [],
   "source": [
    "# evaluate model on test set and print test score/loss and accuracy\n",
    "score = model.evaluate(X_test,  utils.to_categorical(Y_test), batch_size=128, verbose=2)\n",
    "print(\"\\nTest score/loss:\", score[0])\n",
    "print('Test accuracy:', score[1])"
   ]
  },
  {
   "cell_type": "markdown",
   "id": "02e62134",
   "metadata": {},
   "source": [
    "# Present the classification accuracy and confusion matrix of the vanilla RNN in the cell below (20 marks)"
   ]
  },
  {
   "cell_type": "code",
   "execution_count": null,
   "id": "71fa3040",
   "metadata": {},
   "outputs": [],
   "source": [
    "# Predict on test set and convert probabilities to binary class predictions\n",
    "Y_test_pred=model.predict(X_test)\n",
    "Y_test_pred[Y_test_pred>=0.5]=1\n",
    "Y_test_pred[Y_test_pred<0.5]=0\n",
    "print(Y_test_pred)"
   ]
  },
  {
   "cell_type": "code",
   "execution_count": null,
   "id": "1965091a",
   "metadata": {},
   "outputs": [],
   "source": [
    "import sklearn.metrics\n",
    "from sklearn.metrics import confusion_matrix\n",
    "\n",
    "# Compute confusion matrix and print it\n",
    "y_pred = model.predict(X_test)\n",
    "y_pred = np.argmax(y_pred, axis=1)\n",
    "y_true = np.argmax(utils.to_categorical(Y_test), axis=1)\n",
    "cm = confusion_matrix(y_true, y_pred)\n",
    "print(cm)"
   ]
  },
  {
   "cell_type": "markdown",
   "id": "b91f5ab1",
   "metadata": {},
   "source": [
    "# Additional remarks:\n",
    "Code outline appropriately commented. (10 marks)\n",
    "\n",
    "Code running without errors. (10 marks)"
   ]
  }
 ],
 "metadata": {
  "kernelspec": {
   "display_name": "Python 3",
   "language": "python",
   "name": "python3"
  },
  "language_info": {
   "codemirror_mode": {
    "name": "ipython",
    "version": 3
   },
   "file_extension": ".py",
   "mimetype": "text/x-python",
   "name": "python",
   "nbconvert_exporter": "python",
   "pygments_lexer": "ipython3",
   "version": "3.11.0"
  }
 },
 "nbformat": 4,
 "nbformat_minor": 5
}
